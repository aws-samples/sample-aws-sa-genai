{
 "cells": [
  {
   "cell_type": "markdown",
   "id": "66635fb8",
   "metadata": {},
   "source": [
    "# BIOPS CFT Option Use Case 1: Move one dashboard to another account with assets as bundle API #\n",
    "Author: Ying Wang, Sr. SA in Gen AI, QuickSight\n",
    "\n",
    "Created Time: June 2025"
   ]
  },
  {
   "cell_type": "markdown",
   "id": "073c359a",
   "metadata": {},
   "source": [
    "## Update pip and boto3"
   ]
  },
  {
   "cell_type": "code",
   "execution_count": null,
   "id": "b19b1165",
   "metadata": {},
   "outputs": [],
   "source": [
    "!pip install --upgrade pip\n",
    "!pip install --upgrade boto3\n",
    "get_ipython().system('pip install --upgrade ipynb')"
   ]
  },
  {
   "cell_type": "markdown",
   "id": "121fec5b",
   "metadata": {},
   "source": [
    "**Only run it one time!!!**\n",
    "\n",
    "The cell below is to update the bucket policy to allow cross-accounts access: let the targe account to copy the assets in source account.\n",
    "Please update the template path if you have a new assets bundle to be imported into the target account"
   ]
  },
  {
   "cell_type": "code",
   "execution_count": null,
   "id": "159b13ed",
   "metadata": {},
   "outputs": [
    {
     "name": "stdout",
     "output_type": "stream",
     "text": [
      "Bucket policy updated successfully.\n"
     ]
    }
   ],
   "source": [
    "import boto3\n",
    "import json\n",
    "from botocore.exceptions import ClientError\n",
    "\n",
    "# === Configuration ===\n",
    "bucket_name = \"\"\n",
    "source_account_id = \"\"  # Replace with the AWS Account ID to allow\n",
    "target_account_id = \"\"\n",
    "role_name = \"\"  # Replace with the role name you want to allow access    \n",
    "\n",
    "# === Initialize S3 client ===\n",
    "s3 = boto3.client(\"s3\")\n",
    "\n",
    "# === Define the new policy statement ===\n",
    "new_statement1 = {\n",
    "    \"Sid\": \"AllowAccountAToAccessTemplate\",\n",
    "    \"Effect\": \"Allow\",\n",
    "    \"Principal\": {\n",
    "        \"AWS\": f\"arn:aws:iam::{target_account_id}:root\"\n",
    "    },\n",
    "    \"Action\": \"s3:*\",\n",
    "      \"Resource\": [\n",
    "        f\"arn:aws:s3:::{bucket_name}\",\n",
    "        f\"arn:aws:s3:::{bucket_name}/*\"\n",
    "      ]\n",
    "}\n",
    "\n",
    "new_statement2 = {\n",
    "      \"Sid\": \"AllowCloudFormationAccess\",\n",
    "      \"Effect\": \"Allow\",\n",
    "      \"Principal\": {\n",
    "        \"AWS\": f\"arn:aws:iam::{target_account_id}:role/{role_name}\"  # Replace role_name with the actual role name\n",
    "      },\n",
    "      \"Action\": \"s3:GetObject\",\n",
    "      \"Resource\": f\"arn:aws:s3:::{bucket_name}/*\"\n",
    "    }\n",
    "\n",
    "\n",
    "# Try to get the existing policy, or create a new one\n",
    "try:\n",
    "    response = s3.get_bucket_policy(Bucket=bucket_name)\n",
    "    policy = json.loads(response['Policy'])\n",
    "except s3.exceptions.NoSuchBucketPolicy:\n",
    "    policy = {\n",
    "        \"Version\": \"2012-10-17\",\n",
    "        \"Statement\": []\n",
    "    }\n",
    "\n",
    "# Always append the new statement (no duplicate check)\n",
    "policy[\"Statement\"].append(new_statement1)\n",
    "policy[\"Statement\"].append(new_statement2)\n",
    "\n",
    "# Update the policy\n",
    "updated_policy = json.dumps(policy)\n",
    "s3.put_bucket_policy(Bucket=bucket_name, Policy=updated_policy)\n",
    "print(\"Bucket policy updated successfully.\")"
   ]
  },
  {
   "cell_type": "markdown",
   "id": "d31c918b",
   "metadata": {},
   "source": [
    "## Configuration"
   ]
  },
  {
   "cell_type": "code",
   "execution_count": null,
   "id": "825af9ed",
   "metadata": {},
   "outputs": [
    {
     "name": "stdout",
     "output_type": "stream",
     "text": [
      "us-east-1\n"
     ]
    }
   ],
   "source": [
    "import json\n",
    "import boto3\n",
    "import logging\n",
    "import csv\n",
    "import io\n",
    "import os\n",
    "import tempfile\n",
    "from typing import Any, Callable, Dict, List, Optional, Union\n",
    "import sys\n",
    "import botocore\n",
    "import requests\n",
    "import os\n",
    "\n",
    "#start-Initial set up for the sdk env#\n",
    "def default_botocore_config() -> botocore.config.Config:\n",
    "    \"\"\"Botocore configuration.\"\"\"\n",
    "    retries_config: Dict[str, Union[str, int]] = {\n",
    "        \"max_attempts\": int(os.getenv(\"AWS_MAX_ATTEMPTS\", \"5\")),\n",
    "    }\n",
    "    mode: Optional[str] = os.getenv(\"AWS_RETRY_MODE\")\n",
    "    if mode:\n",
    "        retries_config[\"mode\"] = mode\n",
    "    return botocore.config.Config(\n",
    "        retries=retries_config,\n",
    "        connect_timeout=10,\n",
    "        max_pool_connections=10,\n",
    "        user_agent_extra=f\"qs_sdk_biops\",\n",
    "    )\n",
    "sts_client = boto3.client(\"sts\", config=default_botocore_config())\n",
    "account_id = sts_client.get_caller_identity()[\"Account\"]\n",
    "qs_client = boto3.client('quicksight')\n",
    "aws_region = qs_client.meta.region_name\n",
    "print(aws_region)"
   ]
  },
  {
   "cell_type": "code",
   "execution_count": null,
   "id": "9c5ab740",
   "metadata": {
    "collapsed": true,
    "jupyter": {
     "outputs_hidden": true,
     "source_hidden": true
    }
   },
   "outputs": [],
   "source": [
    "analysis_def=qs_client.describe_analysis_definition(\n",
    "    AwsAccountId=account_id,\n",
    "    AnalysisId='',\n",
    "    \n",
    ")\n",
    "from IPython.display import JSON\n",
    "JSON(analysis_def)"
   ]
  },
  {
   "cell_type": "code",
   "execution_count": null,
   "id": "978ad7c8",
   "metadata": {},
   "outputs": [],
   "source": [
    "jobId=''\n",
    "exp_res = qs_client.start_asset_bundle_export_job(\n",
    "    AwsAccountId=account_id,\n",
    "    AssetBundleExportJobId=jobId,\n",
    "    ResourceArns=[\n",
    "        'arn:aws:quicksight:us-east-1:<<account-id>>:dashboard/<<dashboard-id>>',\n",
    "    ],\n",
    "    IncludeAllDependencies=True,\n",
    "    IncludePermissions=False,\n",
    "    ExportFormat='CLOUDFORMATION_JSON')\n",
    "\n",
    "\n",
    "from IPython.display import JSON\n",
    "JSON(exp_res)"
   ]
  },
  {
   "cell_type": "code",
   "execution_count": null,
   "id": "aeba66d8",
   "metadata": {},
   "outputs": [],
   "source": [
    "\n",
    "des_res = qs_client.describe_asset_bundle_export_job(\n",
    "    AwsAccountId=account_id,\n",
    "    AssetBundleExportJobId=jobId\n",
    ")\n",
    "\n",
    "\n",
    "\n",
    "from IPython.display import JSON\n",
    "JSON(des_res)"
   ]
  },
  {
   "cell_type": "code",
   "execution_count": 78,
   "id": "229b5c8e",
   "metadata": {},
   "outputs": [],
   "source": [
    "import time\n",
    "def WaitForExportToComplete(jobId):\n",
    "    while True:\n",
    "        response = qs_client.describe_asset_bundle_export_job(\n",
    "                    AwsAccountId=account_id,\n",
    "                    AssetBundleExportJobId=jobId\n",
    "                    )\n",
    "        \n",
    "        job_status = response['JobStatus']\n",
    "        if job_status in ['SUCCESSFUL', 'FAILED']:\n",
    "            print(f\"Job finished with status: {job_status}\")\n",
    "            return response\n",
    "        else:\n",
    "            print(f\"Job still running. Current status: {job_status}. Retrying in 10 seconds...\")\n",
    "            time.sleep(10)"
   ]
  },
  {
   "cell_type": "code",
   "execution_count": null,
   "id": "5cb88f52",
   "metadata": {},
   "outputs": [],
   "source": [
    "response=WaitForExportToComplete(jobId)"
   ]
  },
  {
   "cell_type": "code",
   "execution_count": null,
   "id": "552d7614",
   "metadata": {},
   "outputs": [],
   "source": [
    "\n",
    "\n",
    "# === Configuration ===\n",
    "url = response['DownloadUrl']\n",
    "local_path = response['ExportFormat'] + '_' + response['AssetBundleExportJobId']\n",
    "local_file_name = local_path + '.template'\n",
    "bucket_name = \"\"  # Replace with your S3 bucket name\n",
    "s3_key = local_path + '/' + local_file_name\n",
    "\n",
    "# === Step 1: Download file from URL ===\n",
    "response = requests.get(url)\n",
    "if response.status_code == 200:\n",
    "    with open(local_file_name, \"wb\") as f:\n",
    "        f.write(response.content)\n",
    "else:\n",
    "    raise Exception(f\"Failed to download file. Status code: {response.status_code}\")\n",
    "\n",
    "# === Step 2: Upload file to S3 ===\n",
    "s3 = boto3.client('s3')\n",
    "s3.upload_file(local_file_name, bucket_name, s3_key)\n",
    "\n",
    "print(f\"File uploaded to s3://{bucket_name}/{s3_key}\")\n",
    "\n"
   ]
  },
  {
   "cell_type": "code",
   "execution_count": null,
   "id": "07a4e3a6",
   "metadata": {},
   "outputs": [],
   "source": [
    "s3path = f\"{bucket_name}/{s3_key}\"\n",
    "s3url = f\"https://{bucket_name}.s3.us-east-1.amazonaws.com/{s3_key}\"\n",
    "print(s3url)\n",
    "\n",
    "\n",
    "# Validate that s3url is not empty and looks correct\n",
    "if not s3url or not s3url.startswith(\"https://\"):\n",
    "    raise ValueError(f\"s3url is invalid: {s3url}\")"
   ]
  },
  {
   "cell_type": "markdown",
   "id": "69a0014f",
   "metadata": {},
   "source": [
    "## Now, call cloudformation to create a stack to deploy the quicksight assets"
   ]
  },
  {
   "cell_type": "code",
   "execution_count": null,
   "id": "c4f55dde",
   "metadata": {},
   "outputs": [],
   "source": [
    "print(\n",
    "    \"To create the stack in your target account, run the following command in your terminal:\\n\"\n",
    "    f\"aws cloudformation create-stack \"\n",
    "    f\"--stack-name qs-import \"\n",
    "    f\"--template-url \\\"{s3url}\\\" \"\n",
    "    f\"--capabilities CAPABILITY_NAMED_IAM\"\n",
    ")\n"
   ]
  }
 ],
 "metadata": {
  "kernelspec": {
   "display_name": "Python 3",
   "language": "python",
   "name": "python3"
  },
  "language_info": {
   "codemirror_mode": {
    "name": "ipython",
    "version": 3
   },
   "file_extension": ".py",
   "mimetype": "text/x-python",
   "name": "python",
   "nbconvert_exporter": "python",
   "pygments_lexer": "ipython3",
   "version": "3.10.18"
  }
 },
 "nbformat": 4,
 "nbformat_minor": 5
}
