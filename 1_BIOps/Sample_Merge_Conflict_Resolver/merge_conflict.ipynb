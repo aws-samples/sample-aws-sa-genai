{
 "cells": [
  {
   "cell_type": "markdown",
   "id": "3bd9bc55",
   "metadata": {},
   "source": [
    "# The runbook to detect the data type changes of dataset and remove the broken filter of the analysis"
   ]
  },
  {
   "cell_type": "markdown",
   "id": "401f92e2",
   "metadata": {},
   "source": [
    "## Define the parameters"
   ]
  },
  {
   "cell_type": "code",
   "execution_count": null,
   "id": "abdf96e0",
   "metadata": {},
   "outputs": [],
   "source": [
    "account_id = <<aws account id>>\n",
    "new_dataset_id = << data set id >>\n",
    "region = 'us-east-1'"
   ]
  },
  {
   "cell_type": "markdown",
   "id": "6d32ebbe",
   "metadata": {},
   "source": [
    "## Back up the dataset description "
   ]
  },
  {
   "cell_type": "code",
   "execution_count": 66,
   "id": "76e51b06",
   "metadata": {},
   "outputs": [],
   "source": [
    "import boto3\n",
    "import json\n",
    "import os\n",
    "from datetime import datetime\n",
    "def get_dataset_description_from_api(account_id, dataset_id, region='us-east-1'):\n",
    "    client = boto3.client('quicksight', region_name=region)\n",
    "    response = client.describe_data_set(\n",
    "        AwsAccountId=account_id,\n",
    "        DataSetId=dataset_id\n",
    "    )\n",
    "    return response['DataSet']\n",
    "\n",
    "def default_serializer(obj):\n",
    "    if isinstance(obj, datetime):\n",
    "        return obj.isoformat()\n",
    "    raise TypeError(f\"Type {type(obj)} not serializable\")\n",
    "\n",
    "\n",
    "ds = get_dataset_description_from_api(account_id, new_dataset_id, region)\n",
    "\n",
    "\n",
    "with open(f\"{new_dataset_id}.json\", \"w\") as f:\n",
    "    json.dump(ds, f, indent=4, default=default_serializer)"
   ]
  },
  {
   "cell_type": "markdown",
   "id": "6f254dc6",
   "metadata": {},
   "source": [
    "## Compare the updated dataset with the back up, and list the difference(s)"
   ]
  },
  {
   "cell_type": "code",
   "execution_count": 68,
   "id": "4e3ed2b5",
   "metadata": {},
   "outputs": [
    {
     "name": "stdout",
     "output_type": "stream",
     "text": [
      "\n",
      "--- Comparison Results ---\n",
      "🛠️ Data Type Changes:\n",
      "- created_at: DATETIME → STRING\n",
      "\n",
      "➕ Added Columns:\n",
      "- added: DATETIME\n"
     ]
    }
   ],
   "source": [
    "# compare_quicksight_datasets.py\n",
    "\n",
    "import boto3\n",
    "import json\n",
    "import os\n",
    "\n",
    "def get_dataset_description_from_api(account_id, dataset_id, region='us-east-1'):\n",
    "    client = boto3.client('quicksight', region_name=region)\n",
    "    response = client.describe_data_set(\n",
    "        AwsAccountId=account_id,\n",
    "        DataSetId=dataset_id\n",
    "    )\n",
    "    return response['DataSet']\n",
    "\n",
    "def get_dataset_description_from_file(filepath):\n",
    "    with open(filepath, 'r') as f:\n",
    "        return json.load(f)\n",
    "\n",
    "def compare_output_columns(old_dataset, new_dataset):\n",
    "    old_columns = {col[\"Name\"]: col[\"Type\"] for col in old_dataset.get(\"OutputColumns\", [])}\n",
    "    new_columns = {col[\"Name\"]: col[\"Type\"] for col in new_dataset.get(\"OutputColumns\", [])}\n",
    "\n",
    "    changes = {\n",
    "        \"datatype_changes\": [],\n",
    "        \"added_columns\": [],\n",
    "        \"removed_columns\": []\n",
    "    }\n",
    "\n",
    "    for name, old_type in old_columns.items():\n",
    "        new_type = new_columns.get(name)\n",
    "        if new_type is None:\n",
    "            changes[\"removed_columns\"].append(name)\n",
    "        elif new_type != old_type:\n",
    "            changes[\"datatype_changes\"].append({\n",
    "                \"ColumnName\": name,\n",
    "                \"OldType\": old_type,\n",
    "                \"NewType\": new_type\n",
    "            })\n",
    "\n",
    "    for name in new_columns:\n",
    "        if name not in old_columns:\n",
    "            changes[\"added_columns\"].append({\n",
    "                \"ColumnName\": name,\n",
    "                \"NewType\": new_columns[name]\n",
    "            })\n",
    "\n",
    "    return changes\n",
    "\n",
    "if __name__ == \"__main__\":\n",
    "    # Load environment variables\n",
    "    account_id = '499080683179'\n",
    "    new_dataset_id = '55b2a086-8fe0-4d98-921d-509aa4e3bd0d'\n",
    "    region = 'us-east-1'\n",
    "    old_json_path = f\"{new_dataset_id}.json\"  # Default to a local file\n",
    "\n",
    "    if not all([account_id, new_dataset_id]):\n",
    "        raise ValueError(\"Missing required environment variables (QUICKSIGHT_ACCOUNT_ID, NEW_DATASET_ID)\")\n",
    "\n",
    "    # Load old dataset from file\n",
    "    old_ds = get_dataset_description_from_file(old_json_path)\n",
    "\n",
    "    # Load new dataset from QuickSight API\n",
    "    new_ds = get_dataset_description_from_api(account_id, new_dataset_id, region)\n",
    "\n",
    "    # Compare\n",
    "    result = compare_output_columns(old_ds, new_ds)\n",
    "\n",
    "    # Print result\n",
    "    print(\"\\n--- Comparison Results ---\")\n",
    "    if result[\"datatype_changes\"]:\n",
    "        print(\"🛠️ Data Type Changes:\")\n",
    "        for c in result[\"datatype_changes\"]:\n",
    "            print(f\"- {c['ColumnName']}: {c['OldType']} → {c['NewType']}\")\n",
    "    if result[\"added_columns\"]:\n",
    "        print(\"\\n➕ Added Columns:\")\n",
    "        for c in result[\"added_columns\"]:\n",
    "            print(f\"- {c['ColumnName']}: {c['NewType']}\")\n",
    "    if result[\"removed_columns\"]:\n",
    "        print(\"\\n➖ Removed Columns:\")\n",
    "        for name in result[\"removed_columns\"]:\n",
    "            print(f\"- {name}\")\n",
    "    if not any(result.values()):\n",
    "        print(\"No differences detected.\")\n",
    "\n",
    "    # Save result as JSON\n",
    "    with open('quicksight_column_diff.json', 'w') as f:\n",
    "        json.dump(result, f, indent=4)\n"
   ]
  },
  {
   "cell_type": "markdown",
   "id": "846dcb91",
   "metadata": {},
   "source": [
    "## Back up the analysis definition"
   ]
  },
  {
   "cell_type": "code",
   "execution_count": 69,
   "id": "918ab464",
   "metadata": {},
   "outputs": [],
   "source": [
    "import boto3\n",
    "import json\n",
    "import os\n",
    "from datetime import datetime\n",
    "def get_analysis_definition_from_api(account_id, analysis_id, region):\n",
    "    client = boto3.client('quicksight', region_name=region)\n",
    "    response = client.describe_analysis_definition(\n",
    "        AwsAccountId=account_id,\n",
    "        AnalysisId=analysis_id\n",
    "    )\n",
    "    return response\n",
    "\n",
    "def default_serializer(obj):\n",
    "    if isinstance(obj, datetime):\n",
    "        return obj.isoformat()\n",
    "    raise TypeError(f\"Type {type(obj)} not serializable\")\n",
    "\n",
    "account_id = '499080683179'\n",
    "analysis_id = '396aa2cb-882a-4aac-ac07-a1c401416e18'\n",
    "region = 'us-east-1'\n",
    "\n",
    "analysis = get_analysis_definition_from_api(account_id, analysis_id, 'us-east-1')\n",
    "\n",
    "\n",
    "\n",
    "with open(f\"{analysis_id}.json\", \"w\") as f:\n",
    "    json.dump(analysis, f, indent=4, default=default_serializer)"
   ]
  },
  {
   "cell_type": "markdown",
   "id": "a0591535",
   "metadata": {},
   "source": [
    "## Define the function to remove the broken filter(s)"
   ]
  },
  {
   "cell_type": "code",
   "execution_count": 70,
   "id": "6e8ae4fe",
   "metadata": {},
   "outputs": [],
   "source": [
    "import boto3\n",
    "\n",
    "def remove_filters_by_column(analysis_def, dataset_name, column_name):\n",
    "    \"\"\"\n",
    "    Removes timeRangeFilter, and relativeDatesFilter that match a given dataset ID and column name.\n",
    "    \"\"\"\n",
    "\n",
    "    if \"FilterGroups\" not in analysis_def:\n",
    "        return analysis_def\n",
    "        print('No filter is defined in this analysis')\n",
    "\n",
    "    updated_filter_groups = []\n",
    "\n",
    "    for fg in analysis_def[\"FilterGroups\"]:\n",
    "        new_filters = []\n",
    "        \n",
    "        for f in fg.get(\"Filters\", []):\n",
    "            removed = False\n",
    "            \n",
    "            print('The filter definition is shown as below')\n",
    "            print(f)\n",
    "\n",
    "            for filter_type in [\"TimeRangeFilter\", \"RelativeDatesFilter\"]:\n",
    "                print(filter_type)\n",
    "                filter_data = f.get(filter_type)\n",
    "                print(filter_data)\n",
    "                if filter_data:\n",
    "                    col = filter_data.get(\"Column\", {})\n",
    "                    print('The filter is based on this column with changed data type')\n",
    "                    print(col)\n",
    "                    if col.get(\"DataSetIdentifier\") == dataset_name and col.get(\"ColumnName\") == column_name:\n",
    "                        removed = True\n",
    "                        break  # skip this filter\n",
    "\n",
    "            if not removed:\n",
    "                new_filters.append(f)\n",
    "\n",
    "        if new_filters:\n",
    "            fg[\"Filters\"] = new_filters\n",
    "            updated_filter_groups.append(fg)\n",
    "\n",
    "    analysis_def[\"FilterGroups\"] = updated_filter_groups\n",
    "    return analysis_def\n"
   ]
  },
  {
   "cell_type": "markdown",
   "id": "e267e31b",
   "metadata": {},
   "source": [
    "## Define the function to update the analysis definition by removing the filter"
   ]
  },
  {
   "cell_type": "code",
   "execution_count": 71,
   "id": "982f18df",
   "metadata": {},
   "outputs": [],
   "source": [
    "def update_quicksight_analysis(account_id, analysis_id, analysis_def, region):\n",
    "    \"\"\"\n",
    "    Updates an existing QuickSight analysis with the modified definition.\n",
    "    \"\"\"\n",
    "    client = boto3.client(\"quicksight\", region_name=region)\n",
    "\n",
    "    response = client.update_analysis(\n",
    "        AwsAccountId=account_id,\n",
    "        AnalysisId=analysis_id,\n",
    "        Name=analysis_def[\"name\"],\n",
    "        Definition=analysis_def[\"definition\"],\n",
    "        ThemeArn=analysis_def.get(\"themeArn\")\n",
    "    )\n",
    "\n",
    "    return response\n"
   ]
  },
  {
   "cell_type": "markdown",
   "id": "2b97f943",
   "metadata": {},
   "source": [
    "## Main function to remove the filter and update the analysis"
   ]
  },
  {
   "cell_type": "code",
   "execution_count": 72,
   "id": "52827c0f",
   "metadata": {},
   "outputs": [
    {
     "name": "stdout",
     "output_type": "stream",
     "text": [
      "The filter definition is shown as below\n",
      "{'RelativeDatesFilter': {'FilterId': 'cee584bd-602c-4b23-a58b-1b788dccb735', 'Column': {'DataSetIdentifier': 'hor-comments', 'ColumnName': 'created_at'}, 'AnchorDateConfiguration': {'AnchorOption': 'NOW'}, 'MinimumGranularity': 'DAY', 'TimeGranularity': 'YEAR', 'RelativeDateType': 'LAST', 'RelativeDateValue': 10, 'NullOption': 'NON_NULLS_ONLY'}}\n",
      "TimeRangeFilter\n",
      "None\n",
      "RelativeDatesFilter\n",
      "{'FilterId': 'cee584bd-602c-4b23-a58b-1b788dccb735', 'Column': {'DataSetIdentifier': 'hor-comments', 'ColumnName': 'created_at'}, 'AnchorDateConfiguration': {'AnchorOption': 'NOW'}, 'MinimumGranularity': 'DAY', 'TimeGranularity': 'YEAR', 'RelativeDateType': 'LAST', 'RelativeDateValue': 10, 'NullOption': 'NON_NULLS_ONLY'}\n",
      "The filter is based on this column with changed data type\n",
      "{'DataSetIdentifier': 'hor-comments', 'ColumnName': 'created_at'}\n",
      "Update response: 202\n"
     ]
    }
   ],
   "source": [
    "import json\n",
    "import os\n",
    "\n",
    "account_id = ''\n",
    "analysis_id = ''\n",
    "region = 'us-east-1'\n",
    "dataset_id = new_dataset_id\n",
    "column_name = \"\"\n",
    "dataset_name = ds[\"Name\"]\n",
    "\n",
    "# Step 1: Get current analysis definition\n",
    "client = boto3.client(\"quicksight\", region_name=region)\n",
    "response = client.describe_analysis_definition(\n",
    "    AwsAccountId=account_id,\n",
    "    AnalysisId=analysis_id\n",
    ")\n",
    "analysis_def = response[\"Definition\"]\n",
    "\n",
    "\n",
    "# Step 2: Remove unwanted filters\n",
    "cleaned_def = remove_filters_by_column(analysis_def, dataset_name, column_name)\n",
    "\n",
    "\n",
    "\n",
    "# Step 3: Prepare wrapper for update_analysis call\n",
    "analysis_wrapper = {\n",
    "    \"name\": response[\"Name\"],\n",
    "    \"definition\": cleaned_def,\n",
    "    \"themeArn\": response[\"ThemeArn\"]\n",
    "}\n",
    "\n",
    "\n",
    "# Step 4: Update analysis\n",
    "update_response = update_quicksight_analysis(account_id, analysis_id, analysis_wrapper, region)\n",
    "print(\"Update response:\", update_response[\"Status\"])\n"
   ]
  }
 ],
 "metadata": {
  "kernelspec": {
   "display_name": "conda_python3",
   "language": "python",
   "name": "conda_python3"
  },
  "language_info": {
   "codemirror_mode": {
    "name": "ipython",
    "version": 3
   },
   "file_extension": ".py",
   "mimetype": "text/x-python",
   "name": "python",
   "nbconvert_exporter": "python",
   "pygments_lexer": "ipython3",
   "version": "3.8.12"
  }
 },
 "nbformat": 4,
 "nbformat_minor": 5
}
